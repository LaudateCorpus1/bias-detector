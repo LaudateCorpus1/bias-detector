{
 "cells": [
  {
   "cell_type": "code",
   "execution_count": 1,
   "metadata": {},
   "outputs": [],
   "source": [
    "\n",
    "import warnings\n",
    "\n",
    "warnings.filterwarnings('ignore')\n"
   ]
  },
  {
   "cell_type": "code",
   "execution_count": 2,
   "metadata": {},
   "outputs": [],
   "source": [
    "\n",
    "#data sources: \n",
    "#https://data.world/nrippner/titanic-disaster-dataset\n",
    "#https://github.com/grammakov/USA-cities-and-states\n",
    "\n",
    "import pandas as pd\n",
    "\n",
    "pd.set_option('display.max_columns', None)\n",
    "\n",
    "df = pd.read_csv('titanic.csv')\n"
   ]
  },
  {
   "cell_type": "code",
   "execution_count": 3,
   "metadata": {},
   "outputs": [
    {
     "data": {
      "text/plain": [
       "1310"
      ]
     },
     "execution_count": 3,
     "metadata": {},
     "output_type": "execute_result"
    }
   ],
   "source": [
    "\n",
    "len(df)\n"
   ]
  },
  {
   "cell_type": "code",
   "execution_count": 4,
   "metadata": {},
   "outputs": [
    {
     "data": {
      "text/html": [
       "<div>\n",
       "<style scoped>\n",
       "    .dataframe tbody tr th:only-of-type {\n",
       "        vertical-align: middle;\n",
       "    }\n",
       "\n",
       "    .dataframe tbody tr th {\n",
       "        vertical-align: top;\n",
       "    }\n",
       "\n",
       "    .dataframe thead th {\n",
       "        text-align: right;\n",
       "    }\n",
       "</style>\n",
       "<table border=\"1\" class=\"dataframe\">\n",
       "  <thead>\n",
       "    <tr style=\"text-align: right;\">\n",
       "      <th></th>\n",
       "      <th>pclass</th>\n",
       "      <th>survived</th>\n",
       "      <th>name</th>\n",
       "      <th>sex</th>\n",
       "      <th>age</th>\n",
       "      <th>sibsp</th>\n",
       "      <th>parch</th>\n",
       "      <th>ticket</th>\n",
       "      <th>fare</th>\n",
       "      <th>cabin</th>\n",
       "      <th>embarked</th>\n",
       "      <th>boat</th>\n",
       "      <th>body</th>\n",
       "      <th>home.dest</th>\n",
       "    </tr>\n",
       "  </thead>\n",
       "  <tbody>\n",
       "    <tr>\n",
       "      <th>0</th>\n",
       "      <td>1.0</td>\n",
       "      <td>1.0</td>\n",
       "      <td>Allen, Miss. Elisabeth Walton</td>\n",
       "      <td>female</td>\n",
       "      <td>29.0000</td>\n",
       "      <td>0.0</td>\n",
       "      <td>0.0</td>\n",
       "      <td>24160</td>\n",
       "      <td>211.3375</td>\n",
       "      <td>B5</td>\n",
       "      <td>S</td>\n",
       "      <td>2</td>\n",
       "      <td>NaN</td>\n",
       "      <td>St Louis, MO</td>\n",
       "    </tr>\n",
       "    <tr>\n",
       "      <th>1</th>\n",
       "      <td>1.0</td>\n",
       "      <td>1.0</td>\n",
       "      <td>Allison, Master. Hudson Trevor</td>\n",
       "      <td>male</td>\n",
       "      <td>0.9167</td>\n",
       "      <td>1.0</td>\n",
       "      <td>2.0</td>\n",
       "      <td>113781</td>\n",
       "      <td>151.5500</td>\n",
       "      <td>C22 C26</td>\n",
       "      <td>S</td>\n",
       "      <td>11</td>\n",
       "      <td>NaN</td>\n",
       "      <td>Montreal, PQ / Chesterville, ON</td>\n",
       "    </tr>\n",
       "    <tr>\n",
       "      <th>2</th>\n",
       "      <td>1.0</td>\n",
       "      <td>0.0</td>\n",
       "      <td>Allison, Miss. Helen Loraine</td>\n",
       "      <td>female</td>\n",
       "      <td>2.0000</td>\n",
       "      <td>1.0</td>\n",
       "      <td>2.0</td>\n",
       "      <td>113781</td>\n",
       "      <td>151.5500</td>\n",
       "      <td>C22 C26</td>\n",
       "      <td>S</td>\n",
       "      <td>NaN</td>\n",
       "      <td>NaN</td>\n",
       "      <td>Montreal, PQ / Chesterville, ON</td>\n",
       "    </tr>\n",
       "    <tr>\n",
       "      <th>3</th>\n",
       "      <td>1.0</td>\n",
       "      <td>0.0</td>\n",
       "      <td>Allison, Mr. Hudson Joshua Creighton</td>\n",
       "      <td>male</td>\n",
       "      <td>30.0000</td>\n",
       "      <td>1.0</td>\n",
       "      <td>2.0</td>\n",
       "      <td>113781</td>\n",
       "      <td>151.5500</td>\n",
       "      <td>C22 C26</td>\n",
       "      <td>S</td>\n",
       "      <td>NaN</td>\n",
       "      <td>135.0</td>\n",
       "      <td>Montreal, PQ / Chesterville, ON</td>\n",
       "    </tr>\n",
       "    <tr>\n",
       "      <th>4</th>\n",
       "      <td>1.0</td>\n",
       "      <td>0.0</td>\n",
       "      <td>Allison, Mrs. Hudson J C (Bessie Waldo Daniels)</td>\n",
       "      <td>female</td>\n",
       "      <td>25.0000</td>\n",
       "      <td>1.0</td>\n",
       "      <td>2.0</td>\n",
       "      <td>113781</td>\n",
       "      <td>151.5500</td>\n",
       "      <td>C22 C26</td>\n",
       "      <td>S</td>\n",
       "      <td>NaN</td>\n",
       "      <td>NaN</td>\n",
       "      <td>Montreal, PQ / Chesterville, ON</td>\n",
       "    </tr>\n",
       "  </tbody>\n",
       "</table>\n",
       "</div>"
      ],
      "text/plain": [
       "   pclass  survived                                             name     sex  \\\n",
       "0     1.0       1.0                    Allen, Miss. Elisabeth Walton  female   \n",
       "1     1.0       1.0                   Allison, Master. Hudson Trevor    male   \n",
       "2     1.0       0.0                     Allison, Miss. Helen Loraine  female   \n",
       "3     1.0       0.0             Allison, Mr. Hudson Joshua Creighton    male   \n",
       "4     1.0       0.0  Allison, Mrs. Hudson J C (Bessie Waldo Daniels)  female   \n",
       "\n",
       "       age  sibsp  parch  ticket      fare    cabin embarked boat   body  \\\n",
       "0  29.0000    0.0    0.0   24160  211.3375       B5        S    2    NaN   \n",
       "1   0.9167    1.0    2.0  113781  151.5500  C22 C26        S   11    NaN   \n",
       "2   2.0000    1.0    2.0  113781  151.5500  C22 C26        S  NaN    NaN   \n",
       "3  30.0000    1.0    2.0  113781  151.5500  C22 C26        S  NaN  135.0   \n",
       "4  25.0000    1.0    2.0  113781  151.5500  C22 C26        S  NaN    NaN   \n",
       "\n",
       "                         home.dest  \n",
       "0                     St Louis, MO  \n",
       "1  Montreal, PQ / Chesterville, ON  \n",
       "2  Montreal, PQ / Chesterville, ON  \n",
       "3  Montreal, PQ / Chesterville, ON  \n",
       "4  Montreal, PQ / Chesterville, ON  "
      ]
     },
     "execution_count": 4,
     "metadata": {},
     "output_type": "execute_result"
    }
   ],
   "source": [
    "\n",
    "df.head()\n"
   ]
  },
  {
   "cell_type": "code",
   "execution_count": 5,
   "metadata": {},
   "outputs": [
    {
     "data": {
      "text/plain": [
       "1309"
      ]
     },
     "execution_count": 5,
     "metadata": {},
     "output_type": "execute_result"
    }
   ],
   "source": [
    "\n",
    "\n",
    "df = df.loc[df['survived'].isin([0,1])]\n",
    "len(df)\n"
   ]
  },
  {
   "cell_type": "code",
   "execution_count": 6,
   "metadata": {},
   "outputs": [],
   "source": [
    "\n",
    "df.index = df.index.rename('id')\n"
   ]
  },
  {
   "cell_type": "code",
   "execution_count": 7,
   "metadata": {},
   "outputs": [],
   "source": [
    "\n",
    "rename_dict = {\n",
    "    'pclass':'ticket_class',\n",
    "    'sibsp':'num_of_siblings_or_spouses_aboard',\n",
    "    'parch':'num_of_parents_or_children_aboard',\n",
    "    'home.dest': 'home_destination'\n",
    "}\n",
    "\n",
    "df = df.rename(columns=rename_dict)\n"
   ]
  },
  {
   "cell_type": "code",
   "execution_count": 8,
   "metadata": {},
   "outputs": [],
   "source": [
    "\n",
    "def get_port_of_embarkation_name(code):\n",
    "    if code == 'C':\n",
    "        return 'Cherbourg'\n",
    "    if code == 'Q':\n",
    "        return 'Queenstown'\n",
    "    if code == 'S':\n",
    "        return 'Southampton'\n",
    "    \n",
    "df['embarked'] = df['embarked'].apply(get_port_of_embarkation_name)\n"
   ]
  },
  {
   "cell_type": "code",
   "execution_count": 9,
   "metadata": {},
   "outputs": [],
   "source": [
    "\n",
    "df[['first_name', 'last_name']] = df['name'].str.split(',', expand=True)[[1, 0]]\n"
   ]
  },
  {
   "cell_type": "code",
   "execution_count": 10,
   "metadata": {},
   "outputs": [],
   "source": [
    "\n",
    "df['first_name'] = df['first_name'].str.replace(r'([a-zA-Z]+\\.)|([\\(\\)\\\"\\\"]+)', '').str.replace('[\\/\\-]+', ' ').str.strip().str.split(' ', expand=True)[0]\n"
   ]
  },
  {
   "cell_type": "code",
   "execution_count": 11,
   "metadata": {},
   "outputs": [
    {
     "data": {
      "text/html": [
       "<div>\n",
       "<style scoped>\n",
       "    .dataframe tbody tr th:only-of-type {\n",
       "        vertical-align: middle;\n",
       "    }\n",
       "\n",
       "    .dataframe tbody tr th {\n",
       "        vertical-align: top;\n",
       "    }\n",
       "\n",
       "    .dataframe thead th {\n",
       "        text-align: right;\n",
       "    }\n",
       "</style>\n",
       "<table border=\"1\" class=\"dataframe\">\n",
       "  <thead>\n",
       "    <tr style=\"text-align: right;\">\n",
       "      <th></th>\n",
       "      <th>name</th>\n",
       "      <th>first_name</th>\n",
       "      <th>last_name</th>\n",
       "    </tr>\n",
       "    <tr>\n",
       "      <th>id</th>\n",
       "      <th></th>\n",
       "      <th></th>\n",
       "      <th></th>\n",
       "    </tr>\n",
       "  </thead>\n",
       "  <tbody>\n",
       "    <tr>\n",
       "      <th>709</th>\n",
       "      <td>Carr, Miss. Helen \"Ellen\"</td>\n",
       "      <td>Helen</td>\n",
       "      <td>Carr</td>\n",
       "    </tr>\n",
       "    <tr>\n",
       "      <th>759</th>\n",
       "      <td>de Messemaeker, Mrs. Guillaume Joseph (Emma)</td>\n",
       "      <td>Guillaume</td>\n",
       "      <td>de Messemaeker</td>\n",
       "    </tr>\n",
       "    <tr>\n",
       "      <th>250</th>\n",
       "      <td>Ryerson, Miss. Emily Borie</td>\n",
       "      <td>Emily</td>\n",
       "      <td>Ryerson</td>\n",
       "    </tr>\n",
       "    <tr>\n",
       "      <th>847</th>\n",
       "      <td>Hanna, Mr. Mansour</td>\n",
       "      <td>Mansour</td>\n",
       "      <td>Hanna</td>\n",
       "    </tr>\n",
       "    <tr>\n",
       "      <th>922</th>\n",
       "      <td>Kelly, Miss. Anna Katherine \"Annie Kate\"</td>\n",
       "      <td>Anna</td>\n",
       "      <td>Kelly</td>\n",
       "    </tr>\n",
       "    <tr>\n",
       "      <th>726</th>\n",
       "      <td>Connolly, Miss. Kate</td>\n",
       "      <td>Kate</td>\n",
       "      <td>Connolly</td>\n",
       "    </tr>\n",
       "    <tr>\n",
       "      <th>810</th>\n",
       "      <td>Ford, Mr. William Neal</td>\n",
       "      <td>William</td>\n",
       "      <td>Ford</td>\n",
       "    </tr>\n",
       "    <tr>\n",
       "      <th>93</th>\n",
       "      <td>Dodge, Dr. Washington</td>\n",
       "      <td>Washington</td>\n",
       "      <td>Dodge</td>\n",
       "    </tr>\n",
       "    <tr>\n",
       "      <th>231</th>\n",
       "      <td>Peuchen, Major. Arthur Godfrey</td>\n",
       "      <td>Arthur</td>\n",
       "      <td>Peuchen</td>\n",
       "    </tr>\n",
       "    <tr>\n",
       "      <th>722</th>\n",
       "      <td>Coleff, Mr. Satio</td>\n",
       "      <td>Satio</td>\n",
       "      <td>Coleff</td>\n",
       "    </tr>\n",
       "  </tbody>\n",
       "</table>\n",
       "</div>"
      ],
      "text/plain": [
       "                                             name  first_name       last_name\n",
       "id                                                                           \n",
       "709                     Carr, Miss. Helen \"Ellen\"       Helen            Carr\n",
       "759  de Messemaeker, Mrs. Guillaume Joseph (Emma)   Guillaume  de Messemaeker\n",
       "250                    Ryerson, Miss. Emily Borie       Emily         Ryerson\n",
       "847                            Hanna, Mr. Mansour     Mansour           Hanna\n",
       "922      Kelly, Miss. Anna Katherine \"Annie Kate\"        Anna           Kelly\n",
       "726                          Connolly, Miss. Kate        Kate        Connolly\n",
       "810                        Ford, Mr. William Neal     William            Ford\n",
       "93                          Dodge, Dr. Washington  Washington           Dodge\n",
       "231                Peuchen, Major. Arthur Godfrey      Arthur         Peuchen\n",
       "722                             Coleff, Mr. Satio       Satio          Coleff"
      ]
     },
     "execution_count": 11,
     "metadata": {},
     "output_type": "execute_result"
    }
   ],
   "source": [
    "\n",
    "df[['name', 'first_name', 'last_name']].sample(10)\n"
   ]
  },
  {
   "cell_type": "code",
   "execution_count": 12,
   "metadata": {},
   "outputs": [],
   "source": [
    "\n",
    "# df['home_destination'].unique()\n"
   ]
  },
  {
   "cell_type": "code",
   "execution_count": 13,
   "metadata": {},
   "outputs": [],
   "source": [
    "\n",
    "# us_cities_states_counties = pd.read_csv('us_cities_states_counties.csv', sep='|')\n",
    "# us_cities_states_counties.head()\n"
   ]
  },
  {
   "cell_type": "code",
   "execution_count": 14,
   "metadata": {},
   "outputs": [],
   "source": [
    "\n",
    "# import re\n",
    "\n",
    "# us_location_pattern = re.compile(r'^[A-Za-z\\s]+\\,\\s{1}[A-Z]{2}$')\n",
    "\n",
    "# def is_us_destination(destination):\n",
    "#     if not type(destination) == str:\n",
    "#         return False\n",
    "#     destination = destination.split(' / ')[0]\n",
    "#     if not us_location_pattern.match(destination):\n",
    "#         return False\n",
    "#     else:\n",
    "#         split = destination.split(', ')\n",
    "#         city = split[0].lower()\n",
    "#         state = split[1].lower()\n",
    "#         city_rows = us_cities_states_counties.loc[us_cities_states_counties['City'].str.lower() == city]\n",
    "#         return state in city_rows['State short'].str.lower().values or state in city_rows['State full'].str.lower().values\n",
    "        \n",
    "# def is_us_destination_fuzzy(destination):\n",
    "#     if not type(destination) == str:\n",
    "#         return False\n",
    "#     split = re.split(r'\\s*[,\\/]+\\s*', destination.lower())\n",
    "#     split_set = set(split)\n",
    "#     city_rows = us_cities_states_counties.loc[us_cities_states_counties['City'].str.lower().isin(split_set)]\n",
    "#     return len(split_set & set(city_rows['State short'].str.lower().values)) > 0 or len(split_set & set(city_rows['State full'].str.lower().values)) > 0\n",
    "\n",
    "# df['is_us'] = df['home_destination'].apply(is_us_destination)\n"
   ]
  },
  {
   "cell_type": "code",
   "execution_count": 15,
   "metadata": {},
   "outputs": [],
   "source": [
    "\n",
    "# df['is_us'].value_counts(dropna=False)\n"
   ]
  },
  {
   "cell_type": "code",
   "execution_count": 16,
   "metadata": {},
   "outputs": [],
   "source": [
    "\n",
    "# df = df.loc[df['is_us']]\n"
   ]
  },
  {
   "cell_type": "code",
   "execution_count": 17,
   "metadata": {},
   "outputs": [
    {
     "data": {
      "text/html": [
       "<div>\n",
       "<style scoped>\n",
       "    .dataframe tbody tr th:only-of-type {\n",
       "        vertical-align: middle;\n",
       "    }\n",
       "\n",
       "    .dataframe tbody tr th {\n",
       "        vertical-align: top;\n",
       "    }\n",
       "\n",
       "    .dataframe thead th {\n",
       "        text-align: right;\n",
       "    }\n",
       "</style>\n",
       "<table border=\"1\" class=\"dataframe\">\n",
       "  <thead>\n",
       "    <tr style=\"text-align: right;\">\n",
       "      <th></th>\n",
       "      <th>ticket_class</th>\n",
       "      <th>survived</th>\n",
       "      <th>name</th>\n",
       "      <th>sex</th>\n",
       "      <th>age</th>\n",
       "      <th>num_of_siblings_or_spouses_aboard</th>\n",
       "      <th>num_of_parents_or_children_aboard</th>\n",
       "      <th>ticket</th>\n",
       "      <th>fare</th>\n",
       "      <th>cabin</th>\n",
       "      <th>embarked</th>\n",
       "      <th>boat</th>\n",
       "      <th>body</th>\n",
       "      <th>home_destination</th>\n",
       "      <th>first_name</th>\n",
       "      <th>last_name</th>\n",
       "    </tr>\n",
       "    <tr>\n",
       "      <th>id</th>\n",
       "      <th></th>\n",
       "      <th></th>\n",
       "      <th></th>\n",
       "      <th></th>\n",
       "      <th></th>\n",
       "      <th></th>\n",
       "      <th></th>\n",
       "      <th></th>\n",
       "      <th></th>\n",
       "      <th></th>\n",
       "      <th></th>\n",
       "      <th></th>\n",
       "      <th></th>\n",
       "      <th></th>\n",
       "      <th></th>\n",
       "      <th></th>\n",
       "    </tr>\n",
       "  </thead>\n",
       "  <tbody>\n",
       "    <tr>\n",
       "      <th>0</th>\n",
       "      <td>1.0</td>\n",
       "      <td>1.0</td>\n",
       "      <td>Allen, Miss. Elisabeth Walton</td>\n",
       "      <td>female</td>\n",
       "      <td>29.0000</td>\n",
       "      <td>0.0</td>\n",
       "      <td>0.0</td>\n",
       "      <td>24160</td>\n",
       "      <td>211.3375</td>\n",
       "      <td>B5</td>\n",
       "      <td>Southampton</td>\n",
       "      <td>2</td>\n",
       "      <td>NaN</td>\n",
       "      <td>St Louis, MO</td>\n",
       "      <td>Elisabeth</td>\n",
       "      <td>Allen</td>\n",
       "    </tr>\n",
       "    <tr>\n",
       "      <th>1</th>\n",
       "      <td>1.0</td>\n",
       "      <td>1.0</td>\n",
       "      <td>Allison, Master. Hudson Trevor</td>\n",
       "      <td>male</td>\n",
       "      <td>0.9167</td>\n",
       "      <td>1.0</td>\n",
       "      <td>2.0</td>\n",
       "      <td>113781</td>\n",
       "      <td>151.5500</td>\n",
       "      <td>C22 C26</td>\n",
       "      <td>Southampton</td>\n",
       "      <td>11</td>\n",
       "      <td>NaN</td>\n",
       "      <td>Montreal, PQ / Chesterville, ON</td>\n",
       "      <td>Hudson</td>\n",
       "      <td>Allison</td>\n",
       "    </tr>\n",
       "    <tr>\n",
       "      <th>2</th>\n",
       "      <td>1.0</td>\n",
       "      <td>0.0</td>\n",
       "      <td>Allison, Miss. Helen Loraine</td>\n",
       "      <td>female</td>\n",
       "      <td>2.0000</td>\n",
       "      <td>1.0</td>\n",
       "      <td>2.0</td>\n",
       "      <td>113781</td>\n",
       "      <td>151.5500</td>\n",
       "      <td>C22 C26</td>\n",
       "      <td>Southampton</td>\n",
       "      <td>NaN</td>\n",
       "      <td>NaN</td>\n",
       "      <td>Montreal, PQ / Chesterville, ON</td>\n",
       "      <td>Helen</td>\n",
       "      <td>Allison</td>\n",
       "    </tr>\n",
       "    <tr>\n",
       "      <th>3</th>\n",
       "      <td>1.0</td>\n",
       "      <td>0.0</td>\n",
       "      <td>Allison, Mr. Hudson Joshua Creighton</td>\n",
       "      <td>male</td>\n",
       "      <td>30.0000</td>\n",
       "      <td>1.0</td>\n",
       "      <td>2.0</td>\n",
       "      <td>113781</td>\n",
       "      <td>151.5500</td>\n",
       "      <td>C22 C26</td>\n",
       "      <td>Southampton</td>\n",
       "      <td>NaN</td>\n",
       "      <td>135.0</td>\n",
       "      <td>Montreal, PQ / Chesterville, ON</td>\n",
       "      <td>Hudson</td>\n",
       "      <td>Allison</td>\n",
       "    </tr>\n",
       "    <tr>\n",
       "      <th>4</th>\n",
       "      <td>1.0</td>\n",
       "      <td>0.0</td>\n",
       "      <td>Allison, Mrs. Hudson J C (Bessie Waldo Daniels)</td>\n",
       "      <td>female</td>\n",
       "      <td>25.0000</td>\n",
       "      <td>1.0</td>\n",
       "      <td>2.0</td>\n",
       "      <td>113781</td>\n",
       "      <td>151.5500</td>\n",
       "      <td>C22 C26</td>\n",
       "      <td>Southampton</td>\n",
       "      <td>NaN</td>\n",
       "      <td>NaN</td>\n",
       "      <td>Montreal, PQ / Chesterville, ON</td>\n",
       "      <td>Hudson</td>\n",
       "      <td>Allison</td>\n",
       "    </tr>\n",
       "  </tbody>\n",
       "</table>\n",
       "</div>"
      ],
      "text/plain": [
       "    ticket_class  survived                                             name  \\\n",
       "id                                                                            \n",
       "0            1.0       1.0                    Allen, Miss. Elisabeth Walton   \n",
       "1            1.0       1.0                   Allison, Master. Hudson Trevor   \n",
       "2            1.0       0.0                     Allison, Miss. Helen Loraine   \n",
       "3            1.0       0.0             Allison, Mr. Hudson Joshua Creighton   \n",
       "4            1.0       0.0  Allison, Mrs. Hudson J C (Bessie Waldo Daniels)   \n",
       "\n",
       "       sex      age  num_of_siblings_or_spouses_aboard  \\\n",
       "id                                                       \n",
       "0   female  29.0000                                0.0   \n",
       "1     male   0.9167                                1.0   \n",
       "2   female   2.0000                                1.0   \n",
       "3     male  30.0000                                1.0   \n",
       "4   female  25.0000                                1.0   \n",
       "\n",
       "    num_of_parents_or_children_aboard  ticket      fare    cabin     embarked  \\\n",
       "id                                                                              \n",
       "0                                 0.0   24160  211.3375       B5  Southampton   \n",
       "1                                 2.0  113781  151.5500  C22 C26  Southampton   \n",
       "2                                 2.0  113781  151.5500  C22 C26  Southampton   \n",
       "3                                 2.0  113781  151.5500  C22 C26  Southampton   \n",
       "4                                 2.0  113781  151.5500  C22 C26  Southampton   \n",
       "\n",
       "   boat   body                 home_destination first_name last_name  \n",
       "id                                                                    \n",
       "0     2    NaN                     St Louis, MO  Elisabeth     Allen  \n",
       "1    11    NaN  Montreal, PQ / Chesterville, ON     Hudson   Allison  \n",
       "2   NaN    NaN  Montreal, PQ / Chesterville, ON      Helen   Allison  \n",
       "3   NaN  135.0  Montreal, PQ / Chesterville, ON     Hudson   Allison  \n",
       "4   NaN    NaN  Montreal, PQ / Chesterville, ON     Hudson   Allison  "
      ]
     },
     "execution_count": 17,
     "metadata": {},
     "output_type": "execute_result"
    }
   ],
   "source": [
    "\n",
    "df.head()\n"
   ]
  },
  {
   "cell_type": "code",
   "execution_count": 18,
   "metadata": {},
   "outputs": [
    {
     "data": {
      "text/html": [
       "<div>\n",
       "<style scoped>\n",
       "    .dataframe tbody tr th:only-of-type {\n",
       "        vertical-align: middle;\n",
       "    }\n",
       "\n",
       "    .dataframe tbody tr th {\n",
       "        vertical-align: top;\n",
       "    }\n",
       "\n",
       "    .dataframe thead th {\n",
       "        text-align: right;\n",
       "    }\n",
       "</style>\n",
       "<table border=\"1\" class=\"dataframe\">\n",
       "  <thead>\n",
       "    <tr style=\"text-align: right;\">\n",
       "      <th></th>\n",
       "      <th>ticket_class</th>\n",
       "      <th>survived</th>\n",
       "      <th>age</th>\n",
       "      <th>num_of_siblings_or_spouses_aboard</th>\n",
       "      <th>num_of_parents_or_children_aboard</th>\n",
       "      <th>fare</th>\n",
       "      <th>body</th>\n",
       "    </tr>\n",
       "  </thead>\n",
       "  <tbody>\n",
       "    <tr>\n",
       "      <th>count</th>\n",
       "      <td>1309.000000</td>\n",
       "      <td>1309.000000</td>\n",
       "      <td>1046.000000</td>\n",
       "      <td>1309.000000</td>\n",
       "      <td>1309.000000</td>\n",
       "      <td>1308.000000</td>\n",
       "      <td>121.000000</td>\n",
       "    </tr>\n",
       "    <tr>\n",
       "      <th>mean</th>\n",
       "      <td>2.294882</td>\n",
       "      <td>0.381971</td>\n",
       "      <td>29.881135</td>\n",
       "      <td>0.498854</td>\n",
       "      <td>0.385027</td>\n",
       "      <td>33.295479</td>\n",
       "      <td>160.809917</td>\n",
       "    </tr>\n",
       "    <tr>\n",
       "      <th>std</th>\n",
       "      <td>0.837836</td>\n",
       "      <td>0.486055</td>\n",
       "      <td>14.413500</td>\n",
       "      <td>1.041658</td>\n",
       "      <td>0.865560</td>\n",
       "      <td>51.758668</td>\n",
       "      <td>97.696922</td>\n",
       "    </tr>\n",
       "    <tr>\n",
       "      <th>min</th>\n",
       "      <td>1.000000</td>\n",
       "      <td>0.000000</td>\n",
       "      <td>0.166700</td>\n",
       "      <td>0.000000</td>\n",
       "      <td>0.000000</td>\n",
       "      <td>0.000000</td>\n",
       "      <td>1.000000</td>\n",
       "    </tr>\n",
       "    <tr>\n",
       "      <th>25%</th>\n",
       "      <td>2.000000</td>\n",
       "      <td>0.000000</td>\n",
       "      <td>21.000000</td>\n",
       "      <td>0.000000</td>\n",
       "      <td>0.000000</td>\n",
       "      <td>7.895800</td>\n",
       "      <td>72.000000</td>\n",
       "    </tr>\n",
       "    <tr>\n",
       "      <th>50%</th>\n",
       "      <td>3.000000</td>\n",
       "      <td>0.000000</td>\n",
       "      <td>28.000000</td>\n",
       "      <td>0.000000</td>\n",
       "      <td>0.000000</td>\n",
       "      <td>14.454200</td>\n",
       "      <td>155.000000</td>\n",
       "    </tr>\n",
       "    <tr>\n",
       "      <th>75%</th>\n",
       "      <td>3.000000</td>\n",
       "      <td>1.000000</td>\n",
       "      <td>39.000000</td>\n",
       "      <td>1.000000</td>\n",
       "      <td>0.000000</td>\n",
       "      <td>31.275000</td>\n",
       "      <td>256.000000</td>\n",
       "    </tr>\n",
       "    <tr>\n",
       "      <th>max</th>\n",
       "      <td>3.000000</td>\n",
       "      <td>1.000000</td>\n",
       "      <td>80.000000</td>\n",
       "      <td>8.000000</td>\n",
       "      <td>9.000000</td>\n",
       "      <td>512.329200</td>\n",
       "      <td>328.000000</td>\n",
       "    </tr>\n",
       "  </tbody>\n",
       "</table>\n",
       "</div>"
      ],
      "text/plain": [
       "       ticket_class     survived          age  \\\n",
       "count   1309.000000  1309.000000  1046.000000   \n",
       "mean       2.294882     0.381971    29.881135   \n",
       "std        0.837836     0.486055    14.413500   \n",
       "min        1.000000     0.000000     0.166700   \n",
       "25%        2.000000     0.000000    21.000000   \n",
       "50%        3.000000     0.000000    28.000000   \n",
       "75%        3.000000     1.000000    39.000000   \n",
       "max        3.000000     1.000000    80.000000   \n",
       "\n",
       "       num_of_siblings_or_spouses_aboard  num_of_parents_or_children_aboard  \\\n",
       "count                        1309.000000                        1309.000000   \n",
       "mean                            0.498854                           0.385027   \n",
       "std                             1.041658                           0.865560   \n",
       "min                             0.000000                           0.000000   \n",
       "25%                             0.000000                           0.000000   \n",
       "50%                             0.000000                           0.000000   \n",
       "75%                             1.000000                           0.000000   \n",
       "max                             8.000000                           9.000000   \n",
       "\n",
       "              fare        body  \n",
       "count  1308.000000  121.000000  \n",
       "mean     33.295479  160.809917  \n",
       "std      51.758668   97.696922  \n",
       "min       0.000000    1.000000  \n",
       "25%       7.895800   72.000000  \n",
       "50%      14.454200  155.000000  \n",
       "75%      31.275000  256.000000  \n",
       "max     512.329200  328.000000  "
      ]
     },
     "execution_count": 18,
     "metadata": {},
     "output_type": "execute_result"
    }
   ],
   "source": [
    "\n",
    "df.describe()\n"
   ]
  },
  {
   "cell_type": "code",
   "execution_count": 19,
   "metadata": {},
   "outputs": [
    {
     "data": {
      "text/plain": [
       "array([[<AxesSubplot:title={'center':'ticket_class'}>,\n",
       "        <AxesSubplot:title={'center':'survived'}>,\n",
       "        <AxesSubplot:title={'center':'age'}>],\n",
       "       [<AxesSubplot:title={'center':'num_of_siblings_or_spouses_aboard'}>,\n",
       "        <AxesSubplot:title={'center':'num_of_parents_or_children_aboard'}>,\n",
       "        <AxesSubplot:title={'center':'fare'}>],\n",
       "       [<AxesSubplot:title={'center':'body'}>, <AxesSubplot:>,\n",
       "        <AxesSubplot:>]], dtype=object)"
      ]
     },
     "execution_count": 19,
     "metadata": {},
     "output_type": "execute_result"
    },
    {
     "data": {
      "image/png": "[encoded data removed]",
      "text/plain": [
       "<Figure size 432x288 with 9 Axes>"
      ]
     },
     "metadata": {
      "needs_background": "light"
     },
     "output_type": "display_data"
    }
   ],
   "source": [
    "\n",
    "df.hist()\n"
   ]
  },
  {
   "cell_type": "code",
   "execution_count": 20,
   "metadata": {},
   "outputs": [
    {
     "data": {
      "text/plain": [
       "Index(['ticket_class', 'survived', 'name', 'sex', 'age',\n",
       "       'num_of_siblings_or_spouses_aboard',\n",
       "       'num_of_parents_or_children_aboard', 'ticket', 'fare', 'cabin',\n",
       "       'embarked', 'boat', 'body', 'home_destination', 'first_name',\n",
       "       'last_name'],\n",
       "      dtype='object')"
      ]
     },
     "execution_count": 20,
     "metadata": {},
     "output_type": "execute_result"
    }
   ],
   "source": [
    "\n",
    "df.columns\n"
   ]
  },
  {
   "cell_type": "code",
   "execution_count": 21,
   "metadata": {},
   "outputs": [],
   "source": [
    "\n",
    "def get_X(df: pd.DataFrame):\n",
    "    features = pd.DataFrame(index=df.index)\n",
    "    columns = ['ticket_class', 'age', 'num_of_siblings_or_spouses_aboard', 'num_of_parents_or_children_aboard', 'fare', 'embarked', 'sex']\n",
    "    features[columns] = df[columns]\n",
    "    features = pd.get_dummies(features, columns=['embarked', 'sex'])\n",
    "    return features\n"
   ]
  },
  {
   "cell_type": "code",
   "execution_count": 22,
   "metadata": {},
   "outputs": [],
   "source": [
    "\n",
    "X = get_X(df)\n",
    "y = df['survived']\n"
   ]
  },
  {
   "cell_type": "code",
   "execution_count": 23,
   "metadata": {},
   "outputs": [],
   "source": [
    "\n",
    "from sklearn.model_selection import train_test_split\n",
    "\n",
    "X_train, X_test, y_train, y_test = train_test_split(X, y, test_size=0.33, random_state=42)\n"
   ]
  },
  {
   "cell_type": "code",
   "execution_count": 24,
   "metadata": {},
   "outputs": [
    {
     "data": {
      "text/html": [
       "<div>\n",
       "<style scoped>\n",
       "    .dataframe tbody tr th:only-of-type {\n",
       "        vertical-align: middle;\n",
       "    }\n",
       "\n",
       "    .dataframe tbody tr th {\n",
       "        vertical-align: top;\n",
       "    }\n",
       "\n",
       "    .dataframe thead th {\n",
       "        text-align: right;\n",
       "    }\n",
       "</style>\n",
       "<table border=\"1\" class=\"dataframe\">\n",
       "  <thead>\n",
       "    <tr style=\"text-align: right;\">\n",
       "      <th></th>\n",
       "      <th>ticket_class</th>\n",
       "      <th>age</th>\n",
       "      <th>num_of_siblings_or_spouses_aboard</th>\n",
       "      <th>num_of_parents_or_children_aboard</th>\n",
       "      <th>fare</th>\n",
       "      <th>embarked_Cherbourg</th>\n",
       "      <th>embarked_Queenstown</th>\n",
       "      <th>embarked_Southampton</th>\n",
       "      <th>sex_female</th>\n",
       "      <th>sex_male</th>\n",
       "    </tr>\n",
       "    <tr>\n",
       "      <th>id</th>\n",
       "      <th></th>\n",
       "      <th></th>\n",
       "      <th></th>\n",
       "      <th></th>\n",
       "      <th></th>\n",
       "      <th></th>\n",
       "      <th></th>\n",
       "      <th></th>\n",
       "      <th></th>\n",
       "      <th></th>\n",
       "    </tr>\n",
       "  </thead>\n",
       "  <tbody>\n",
       "    <tr>\n",
       "      <th>376</th>\n",
       "      <td>2.0</td>\n",
       "      <td>24.0</td>\n",
       "      <td>0.0</td>\n",
       "      <td>0.0</td>\n",
       "      <td>10.5000</td>\n",
       "      <td>0</td>\n",
       "      <td>0</td>\n",
       "      <td>1</td>\n",
       "      <td>0</td>\n",
       "      <td>1</td>\n",
       "    </tr>\n",
       "    <tr>\n",
       "      <th>578</th>\n",
       "      <td>2.0</td>\n",
       "      <td>30.0</td>\n",
       "      <td>1.0</td>\n",
       "      <td>0.0</td>\n",
       "      <td>21.0000</td>\n",
       "      <td>0</td>\n",
       "      <td>0</td>\n",
       "      <td>1</td>\n",
       "      <td>0</td>\n",
       "      <td>1</td>\n",
       "    </tr>\n",
       "    <tr>\n",
       "      <th>494</th>\n",
       "      <td>2.0</td>\n",
       "      <td>24.0</td>\n",
       "      <td>1.0</td>\n",
       "      <td>1.0</td>\n",
       "      <td>37.0042</td>\n",
       "      <td>1</td>\n",
       "      <td>0</td>\n",
       "      <td>0</td>\n",
       "      <td>1</td>\n",
       "      <td>0</td>\n",
       "    </tr>\n",
       "    <tr>\n",
       "      <th>314</th>\n",
       "      <td>1.0</td>\n",
       "      <td>50.0</td>\n",
       "      <td>1.0</td>\n",
       "      <td>1.0</td>\n",
       "      <td>211.5000</td>\n",
       "      <td>1</td>\n",
       "      <td>0</td>\n",
       "      <td>0</td>\n",
       "      <td>1</td>\n",
       "      <td>0</td>\n",
       "    </tr>\n",
       "    <tr>\n",
       "      <th>1098</th>\n",
       "      <td>3.0</td>\n",
       "      <td>3.0</td>\n",
       "      <td>3.0</td>\n",
       "      <td>1.0</td>\n",
       "      <td>21.0750</td>\n",
       "      <td>0</td>\n",
       "      <td>0</td>\n",
       "      <td>1</td>\n",
       "      <td>1</td>\n",
       "      <td>0</td>\n",
       "    </tr>\n",
       "  </tbody>\n",
       "</table>\n",
       "</div>"
      ],
      "text/plain": [
       "      ticket_class   age  num_of_siblings_or_spouses_aboard  \\\n",
       "id                                                            \n",
       "376            2.0  24.0                                0.0   \n",
       "578            2.0  30.0                                1.0   \n",
       "494            2.0  24.0                                1.0   \n",
       "314            1.0  50.0                                1.0   \n",
       "1098           3.0   3.0                                3.0   \n",
       "\n",
       "      num_of_parents_or_children_aboard      fare  embarked_Cherbourg  \\\n",
       "id                                                                      \n",
       "376                                 0.0   10.5000                   0   \n",
       "578                                 0.0   21.0000                   0   \n",
       "494                                 1.0   37.0042                   1   \n",
       "314                                 1.0  211.5000                   1   \n",
       "1098                                1.0   21.0750                   0   \n",
       "\n",
       "      embarked_Queenstown  embarked_Southampton  sex_female  sex_male  \n",
       "id                                                                     \n",
       "376                     0                     1           0         1  \n",
       "578                     0                     1           0         1  \n",
       "494                     0                     0           1         0  \n",
       "314                     0                     0           1         0  \n",
       "1098                    0                     1           1         0  "
      ]
     },
     "execution_count": 24,
     "metadata": {},
     "output_type": "execute_result"
    }
   ],
   "source": [
    "\n",
    "X_train.head()\n"
   ]
  },
  {
   "cell_type": "code",
   "execution_count": 25,
   "metadata": {},
   "outputs": [
    {
     "data": {
      "text/html": [
       "<div>\n",
       "<style scoped>\n",
       "    .dataframe tbody tr th:only-of-type {\n",
       "        vertical-align: middle;\n",
       "    }\n",
       "\n",
       "    .dataframe tbody tr th {\n",
       "        vertical-align: top;\n",
       "    }\n",
       "\n",
       "    .dataframe thead th {\n",
       "        text-align: right;\n",
       "    }\n",
       "</style>\n",
       "<table border=\"1\" class=\"dataframe\">\n",
       "  <thead>\n",
       "    <tr style=\"text-align: right;\">\n",
       "      <th></th>\n",
       "      <th>ticket_class</th>\n",
       "      <th>age</th>\n",
       "      <th>num_of_siblings_or_spouses_aboard</th>\n",
       "      <th>num_of_parents_or_children_aboard</th>\n",
       "      <th>fare</th>\n",
       "      <th>embarked_Cherbourg</th>\n",
       "      <th>embarked_Queenstown</th>\n",
       "      <th>embarked_Southampton</th>\n",
       "      <th>sex_female</th>\n",
       "      <th>sex_male</th>\n",
       "    </tr>\n",
       "    <tr>\n",
       "      <th>id</th>\n",
       "      <th></th>\n",
       "      <th></th>\n",
       "      <th></th>\n",
       "      <th></th>\n",
       "      <th></th>\n",
       "      <th></th>\n",
       "      <th></th>\n",
       "      <th></th>\n",
       "      <th></th>\n",
       "      <th></th>\n",
       "    </tr>\n",
       "  </thead>\n",
       "  <tbody>\n",
       "    <tr>\n",
       "      <th>1148</th>\n",
       "      <td>3.0</td>\n",
       "      <td>35.0</td>\n",
       "      <td>0.0</td>\n",
       "      <td>0.0</td>\n",
       "      <td>7.1250</td>\n",
       "      <td>0</td>\n",
       "      <td>0</td>\n",
       "      <td>1</td>\n",
       "      <td>0</td>\n",
       "      <td>1</td>\n",
       "    </tr>\n",
       "    <tr>\n",
       "      <th>1049</th>\n",
       "      <td>3.0</td>\n",
       "      <td>20.0</td>\n",
       "      <td>1.0</td>\n",
       "      <td>1.0</td>\n",
       "      <td>15.7417</td>\n",
       "      <td>1</td>\n",
       "      <td>0</td>\n",
       "      <td>0</td>\n",
       "      <td>0</td>\n",
       "      <td>1</td>\n",
       "    </tr>\n",
       "    <tr>\n",
       "      <th>982</th>\n",
       "      <td>3.0</td>\n",
       "      <td>NaN</td>\n",
       "      <td>0.0</td>\n",
       "      <td>0.0</td>\n",
       "      <td>7.8958</td>\n",
       "      <td>0</td>\n",
       "      <td>0</td>\n",
       "      <td>1</td>\n",
       "      <td>0</td>\n",
       "      <td>1</td>\n",
       "    </tr>\n",
       "    <tr>\n",
       "      <th>808</th>\n",
       "      <td>3.0</td>\n",
       "      <td>NaN</td>\n",
       "      <td>0.0</td>\n",
       "      <td>0.0</td>\n",
       "      <td>8.0500</td>\n",
       "      <td>0</td>\n",
       "      <td>0</td>\n",
       "      <td>1</td>\n",
       "      <td>0</td>\n",
       "      <td>1</td>\n",
       "    </tr>\n",
       "    <tr>\n",
       "      <th>1195</th>\n",
       "      <td>3.0</td>\n",
       "      <td>NaN</td>\n",
       "      <td>0.0</td>\n",
       "      <td>0.0</td>\n",
       "      <td>7.7500</td>\n",
       "      <td>0</td>\n",
       "      <td>1</td>\n",
       "      <td>0</td>\n",
       "      <td>0</td>\n",
       "      <td>1</td>\n",
       "    </tr>\n",
       "  </tbody>\n",
       "</table>\n",
       "</div>"
      ],
      "text/plain": [
       "      ticket_class   age  num_of_siblings_or_spouses_aboard  \\\n",
       "id                                                            \n",
       "1148           3.0  35.0                                0.0   \n",
       "1049           3.0  20.0                                1.0   \n",
       "982            3.0   NaN                                0.0   \n",
       "808            3.0   NaN                                0.0   \n",
       "1195           3.0   NaN                                0.0   \n",
       "\n",
       "      num_of_parents_or_children_aboard     fare  embarked_Cherbourg  \\\n",
       "id                                                                     \n",
       "1148                                0.0   7.1250                   0   \n",
       "1049                                1.0  15.7417                   1   \n",
       "982                                 0.0   7.8958                   0   \n",
       "808                                 0.0   8.0500                   0   \n",
       "1195                                0.0   7.7500                   0   \n",
       "\n",
       "      embarked_Queenstown  embarked_Southampton  sex_female  sex_male  \n",
       "id                                                                     \n",
       "1148                    0                     1           0         1  \n",
       "1049                    0                     0           0         1  \n",
       "982                     0                     1           0         1  \n",
       "808                     0                     1           0         1  \n",
       "1195                    1                     0           0         1  "
      ]
     },
     "execution_count": 25,
     "metadata": {},
     "output_type": "execute_result"
    }
   ],
   "source": [
    "\n",
    "X_test.head()\n"
   ]
  },
  {
   "cell_type": "code",
   "execution_count": 26,
   "metadata": {},
   "outputs": [
    {
     "data": {
      "text/plain": [
       "XGBClassifier(base_score=0.5, booster='gbtree', colsample_bylevel=1,\n",
       "              colsample_bynode=1, colsample_bytree=1, gamma=0, gpu_id=-1,\n",
       "              importance_type='gain', interaction_constraints='',\n",
       "              learning_rate=0.300000012, max_delta_step=0, max_depth=3,\n",
       "              min_child_weight=1, missing=nan, monotone_constraints='()',\n",
       "              n_estimators=100, n_jobs=0, num_parallel_tree=1, random_state=0,\n",
       "              reg_alpha=0, reg_lambda=1, scale_pos_weight=1, subsample=1,\n",
       "              tree_method='exact', validate_parameters=1, verbosity=None)"
      ]
     },
     "execution_count": 26,
     "metadata": {},
     "output_type": "execute_result"
    }
   ],
   "source": [
    "\n",
    "import xgboost as xgb\n",
    "\n",
    "classifier = xgb.XGBClassifier(max_depth=3)\n",
    "classifier.fit(X_train, y_train)\n"
   ]
  },
  {
   "cell_type": "code",
   "execution_count": 27,
   "metadata": {},
   "outputs": [
    {
     "name": "stdout",
     "output_type": "stream",
     "text": [
      "              precision    recall  f1-score   support\n",
      "\n",
      "         0.0       0.78      0.91      0.84       254\n",
      "         1.0       0.83      0.64      0.72       178\n",
      "\n",
      "    accuracy                           0.80       432\n",
      "   macro avg       0.80      0.77      0.78       432\n",
      "weighted avg       0.80      0.80      0.79       432\n",
      "\n"
     ]
    }
   ],
   "source": [
    "\n",
    "from sklearn.metrics import classification_report\n",
    "\n",
    "y_pred = classifier.predict(X_test)\n",
    "y_true = y_test\n",
    "print(classification_report(y_true, y_pred))\n"
   ]
  },
  {
   "cell_type": "code",
   "execution_count": 28,
   "metadata": {},
   "outputs": [],
   "source": [
    "\n",
    "%%capture\n",
    "\n",
    "!pip install --upgrade bias-detector\n"
   ]
  },
  {
   "cell_type": "code",
   "execution_count": 29,
   "metadata": {},
   "outputs": [],
   "source": [
    "\n",
    "from bias_detector.BiasDetector import BiasDetector\n",
    "\n",
    "bias_detector = BiasDetector(country='US')\n"
   ]
  },
  {
   "cell_type": "code",
   "execution_count": 30,
   "metadata": {},
   "outputs": [],
   "source": [
    "\n",
    "df_test = df.loc[X_test.index]\n"
   ]
  },
  {
   "cell_type": "code",
   "execution_count": 31,
   "metadata": {},
   "outputs": [],
   "source": [
    "\n",
    "first_names = df_test['first_name']\n",
    "last_names = df_test['last_name']\n",
    "y_pred = classifier.predict(X_test)\n",
    "y_true = y_test\n",
    "y_scores = classifier.predict_proba(X_test)[:,1]\n"
   ]
  },
  {
   "cell_type": "code",
   "execution_count": 32,
   "metadata": {},
   "outputs": [
    {
     "data": {
      "text/plain": [
       "male      281\n",
       "female    151\n",
       "Name: sex, dtype: int64"
      ]
     },
     "execution_count": 32,
     "metadata": {},
     "output_type": "execute_result"
    }
   ],
   "source": [
    "\n",
    "df_test['sex'].value_counts(dropna=False)\n"
   ]
  },
  {
   "cell_type": "code",
   "execution_count": 33,
   "metadata": {},
   "outputs": [],
   "source": [
    "\n",
    "p_groups = pd.DataFrame(index=df_test.index)\n",
    "p_groups['male'] = df_test['sex'] == 'male'\n",
    "p_groups['female'] = df_test['sex'] == 'female'\n",
    "p_groups = p_groups.fillna(0)\n",
    "p_groups = p_groups.astype(float)\n",
    "p_groups = p_groups.reset_index(drop=True)\n"
   ]
  },
  {
   "cell_type": "code",
   "execution_count": 34,
   "metadata": {},
   "outputs": [
    {
     "data": {
      "text/plain": [
       "male      281.0\n",
       "female    151.0\n",
       "dtype: float64"
      ]
     },
     "execution_count": 34,
     "metadata": {},
     "output_type": "execute_result"
    }
   ],
   "source": [
    "\n",
    "p_groups.sum()\n"
   ]
  },
  {
   "cell_type": "code",
   "execution_count": 35,
   "metadata": {},
   "outputs": [
    {
     "data": {
      "text/html": [
       "<div>\n",
       "<style scoped>\n",
       "    .dataframe tbody tr th:only-of-type {\n",
       "        vertical-align: middle;\n",
       "    }\n",
       "\n",
       "    .dataframe tbody tr th {\n",
       "        vertical-align: top;\n",
       "    }\n",
       "\n",
       "    .dataframe thead th {\n",
       "        text-align: right;\n",
       "    }\n",
       "</style>\n",
       "<table border=\"1\" class=\"dataframe\">\n",
       "  <thead>\n",
       "    <tr style=\"text-align: right;\">\n",
       "      <th></th>\n",
       "      <th>male</th>\n",
       "      <th>female</th>\n",
       "    </tr>\n",
       "  </thead>\n",
       "  <tbody>\n",
       "    <tr>\n",
       "      <th>0</th>\n",
       "      <td>1.0</td>\n",
       "      <td>0.0</td>\n",
       "    </tr>\n",
       "    <tr>\n",
       "      <th>1</th>\n",
       "      <td>1.0</td>\n",
       "      <td>0.0</td>\n",
       "    </tr>\n",
       "    <tr>\n",
       "      <th>2</th>\n",
       "      <td>1.0</td>\n",
       "      <td>0.0</td>\n",
       "    </tr>\n",
       "    <tr>\n",
       "      <th>3</th>\n",
       "      <td>1.0</td>\n",
       "      <td>0.0</td>\n",
       "    </tr>\n",
       "    <tr>\n",
       "      <th>4</th>\n",
       "      <td>1.0</td>\n",
       "      <td>0.0</td>\n",
       "    </tr>\n",
       "  </tbody>\n",
       "</table>\n",
       "</div>"
      ],
      "text/plain": [
       "   male  female\n",
       "0   1.0     0.0\n",
       "1   1.0     0.0\n",
       "2   1.0     0.0\n",
       "3   1.0     0.0\n",
       "4   1.0     0.0"
      ]
     },
     "execution_count": 35,
     "metadata": {},
     "output_type": "execute_result"
    }
   ],
   "source": [
    "\n",
    "p_groups.head()\n"
   ]
  },
  {
   "cell_type": "code",
   "execution_count": 36,
   "metadata": {},
   "outputs": [],
   "source": [
    "\n",
    "direct_bias_report = bias_detector.get_bias_report(y_pred = y_pred, \n",
    "                                            y_true = y_true, \n",
    "                                            p_groups = p_groups,\n",
    "                                            detect_gender_bias = True,\n",
    "                                            detect_race_bias = False)\n"
   ]
  },
  {
   "cell_type": "code",
   "execution_count": 37,
   "metadata": {},
   "outputs": [
    {
     "data": {
      "text/html": [
       "<b>Report Summary:</b><ul><li>Statistical Parity:</li>We observed the following statistically significant differences (𝛼=0.01):<ul><li>P(pred=1|Male)-P(pred=1|Female)=0.075-0.77=-0.7±0.096 (p-value=4.8e-78)</li></ul><li>Equal Opportunity:</li>We observed the following statistically significant differences (𝛼=0.01):<ul><li>TPR<sub>Male</sub>-TPR<sub>Female</sub>=0.22-0.85=-0.63±0.16 (p-value=2.6e-23)</li></ul><li>Predictive Equality:</li>We observed the following statistically significant differences (𝛼=0.01):<ul><li>FPR<sub>Male</sub>-FPR<sub>Female</sub>=0.036-0.5=-0.46±0.23 (p-value=2e-07)</li></ul></ul>"
      ],
      "text/plain": [
       "<IPython.core.display.HTML object>"
      ]
     },
     "metadata": {},
     "output_type": "display_data"
    }
   ],
   "source": [
    "\n",
    "direct_bias_report.print_summary()\n"
   ]
  },
  {
   "cell_type": "code",
   "execution_count": 38,
   "metadata": {},
   "outputs": [
    {
     "data": {
      "image/png": "[encoded data removed]",
      "text/plain": [
       "<Figure size 432x288 with 1 Axes>"
      ]
     },
     "metadata": {
      "needs_background": "light"
     },
     "output_type": "display_data"
    },
    {
     "data": {
      "image/png": "[encoded data removed]",
      "text/plain": [
       "<Figure size 432x288 with 1 Axes>"
      ]
     },
     "metadata": {
      "needs_background": "light"
     },
     "output_type": "display_data"
    },
    {
     "data": {
      "image/png": "[encoded data removed]",
      "text/plain": [
       "<Figure size 432x288 with 1 Axes>"
      ]
     },
     "metadata": {
      "needs_background": "light"
     },
     "output_type": "display_data"
    }
   ],
   "source": [
    "\n",
    "direct_bias_report.plot_summary()\n"
   ]
  },
  {
   "cell_type": "code",
   "execution_count": 39,
   "metadata": {},
   "outputs": [
    {
     "data": {
      "image/png": "[encoded data removed]",
      "text/plain": [
       "<Figure size 432x288 with 1 Axes>"
      ]
     },
     "metadata": {},
     "output_type": "display_data"
    }
   ],
   "source": [
    "\n",
    "direct_bias_report.plot_groups()\n"
   ]
  },
  {
   "cell_type": "code",
   "execution_count": 40,
   "metadata": {},
   "outputs": [
    {
     "data": {
      "text/plain": [
       "male              281\n",
       "female            151\n",
       "gender_unknown      0\n",
       "dtype: int64"
      ]
     },
     "execution_count": 40,
     "metadata": {},
     "output_type": "execute_result"
    }
   ],
   "source": [
    "\n",
    "direct_bias_report.estimated_groups_sizes\n"
   ]
  },
  {
   "cell_type": "code",
   "execution_count": 41,
   "metadata": {},
   "outputs": [],
   "source": [
    "\n",
    "inferred_bias_report = bias_detector.get_bias_report(first_names = first_names,\n",
    "                                            last_names = last_names,\n",
    "                                            y_pred = y_pred, \n",
    "                                            y_true = y_true, \n",
    "                                            detect_gender_bias = True,\n",
    "                                            detect_race_bias = True)\n"
   ]
  },
  {
   "cell_type": "code",
   "execution_count": 42,
   "metadata": {},
   "outputs": [
    {
     "data": {
      "text/html": [
       "<b>Report Summary:</b><ul><li>Statistical Parity:</li>We observed the following statistically significant differences (𝛼=0.01):<ul><li>P(pred=1|Male)-P(pred=1|Female)=0.23-0.71=-0.48±0.14 (p-value=5.7e-18)</li></ul><li>Equal Opportunity:</li>We observed the following statistically significant differences (𝛼=0.01):<ul><li>TPR<sub>Male</sub>-TPR<sub>Female</sub>=0.56-0.81=-0.25±0.19 (p-value=0.00055)</li></ul><li>Predictive Equality:</li>No bias detected.</ul>"
      ],
      "text/plain": [
       "<IPython.core.display.HTML object>"
      ]
     },
     "metadata": {},
     "output_type": "display_data"
    }
   ],
   "source": [
    "\n",
    "inferred_bias_report.print_summary()\n"
   ]
  },
  {
   "cell_type": "code",
   "execution_count": 43,
   "metadata": {},
   "outputs": [
    {
     "data": {
      "image/png": "[encoded data removed]",
      "text/plain": [
       "<Figure size 432x288 with 1 Axes>"
      ]
     },
     "metadata": {
      "needs_background": "light"
     },
     "output_type": "display_data"
    },
    {
     "data": {
      "image/png": "[encoded data removed]",
      "text/plain": [
       "<Figure size 432x288 with 1 Axes>"
      ]
     },
     "metadata": {
      "needs_background": "light"
     },
     "output_type": "display_data"
    },
    {
     "data": {
      "image/png": "[encoded data removed]",
      "text/plain": [
       "<Figure size 432x288 with 1 Axes>"
      ]
     },
     "metadata": {
      "needs_background": "light"
     },
     "output_type": "display_data"
    }
   ],
   "source": [
    "\n",
    "inferred_bias_report.plot_summary()\n"
   ]
  },
  {
   "cell_type": "code",
   "execution_count": 44,
   "metadata": {},
   "outputs": [
    {
     "data": {
      "image/png": "[encoded data removed]",
      "text/plain": [
       "<Figure size 432x288 with 1 Axes>"
      ]
     },
     "metadata": {},
     "output_type": "display_data"
    },
    {
     "data": {
      "image/png": "[encoded data removed]",
      "text/plain": [
       "<Figure size 432x288 with 1 Axes>"
      ]
     },
     "metadata": {},
     "output_type": "display_data"
    }
   ],
   "source": [
    "\n",
    "inferred_bias_report.plot_groups()\n"
   ]
  },
  {
   "cell_type": "code",
   "execution_count": 45,
   "metadata": {},
   "outputs": [
    {
     "data": {
      "text/plain": [
       "male              228\n",
       "female             88\n",
       "white             312\n",
       "black              48\n",
       "api                 9\n",
       "hispanic           13\n",
       "native              2\n",
       "gender_unknown    115\n",
       "race_unknown       40\n",
       "dtype: int64"
      ]
     },
     "execution_count": 45,
     "metadata": {},
     "output_type": "execute_result"
    }
   ],
   "source": [
    "\n",
    "inferred_bias_report.estimated_groups_sizes\n"
   ]
  },
  {
   "cell_type": "code",
   "execution_count": 46,
   "metadata": {},
   "outputs": [
    {
     "data": {
      "text/html": [
       "<div>\n",
       "<style scoped>\n",
       "    .dataframe tbody tr th:only-of-type {\n",
       "        vertical-align: middle;\n",
       "    }\n",
       "\n",
       "    .dataframe tbody tr th {\n",
       "        vertical-align: top;\n",
       "    }\n",
       "\n",
       "    .dataframe thead th {\n",
       "        text-align: right;\n",
       "    }\n",
       "</style>\n",
       "<table border=\"1\" class=\"dataframe\">\n",
       "  <thead>\n",
       "    <tr style=\"text-align: right;\">\n",
       "      <th></th>\n",
       "      <th>first_name</th>\n",
       "      <th>last_name</th>\n",
       "      <th>male</th>\n",
       "      <th>female</th>\n",
       "      <th>white</th>\n",
       "      <th>black</th>\n",
       "      <th>api</th>\n",
       "      <th>hispanic</th>\n",
       "      <th>native</th>\n",
       "    </tr>\n",
       "  </thead>\n",
       "  <tbody>\n",
       "    <tr>\n",
       "      <th>96</th>\n",
       "      <td>Harry</td>\n",
       "      <td>Molson</td>\n",
       "      <td>1.000000</td>\n",
       "      <td>0.000000</td>\n",
       "      <td>0.589963</td>\n",
       "      <td>0.346957</td>\n",
       "      <td>0.004102</td>\n",
       "      <td>0.010140</td>\n",
       "      <td>0.009210</td>\n",
       "    </tr>\n",
       "    <tr>\n",
       "      <th>320</th>\n",
       "      <td>Ethel</td>\n",
       "      <td>Garside</td>\n",
       "      <td>0.000000</td>\n",
       "      <td>1.000000</td>\n",
       "      <td>0.725620</td>\n",
       "      <td>0.184135</td>\n",
       "      <td>0.004528</td>\n",
       "      <td>0.013952</td>\n",
       "      <td>0.024379</td>\n",
       "    </tr>\n",
       "    <tr>\n",
       "      <th>292</th>\n",
       "      <td>Thomas</td>\n",
       "      <td>Brown</td>\n",
       "      <td>0.997831</td>\n",
       "      <td>0.002169</td>\n",
       "      <td>0.827330</td>\n",
       "      <td>0.135916</td>\n",
       "      <td>0.001564</td>\n",
       "      <td>0.004374</td>\n",
       "      <td>0.007247</td>\n",
       "    </tr>\n",
       "    <tr>\n",
       "      <th>125</th>\n",
       "      <td>Ling</td>\n",
       "      <td>Hee</td>\n",
       "      <td>0.000000</td>\n",
       "      <td>1.000000</td>\n",
       "      <td>0.000701</td>\n",
       "      <td>0.000000</td>\n",
       "      <td>0.998686</td>\n",
       "      <td>0.000613</td>\n",
       "      <td>0.000000</td>\n",
       "    </tr>\n",
       "    <tr>\n",
       "      <th>346</th>\n",
       "      <td>Marion</td>\n",
       "      <td>Wright</td>\n",
       "      <td>0.282353</td>\n",
       "      <td>0.717647</td>\n",
       "      <td>0.479418</td>\n",
       "      <td>0.508704</td>\n",
       "      <td>0.000367</td>\n",
       "      <td>0.004025</td>\n",
       "      <td>0.007486</td>\n",
       "    </tr>\n",
       "    <tr>\n",
       "      <th>327</th>\n",
       "      <td>Alice</td>\n",
       "      <td>Phillips</td>\n",
       "      <td>0.000000</td>\n",
       "      <td>1.000000</td>\n",
       "      <td>0.688851</td>\n",
       "      <td>0.236001</td>\n",
       "      <td>0.006972</td>\n",
       "      <td>0.016005</td>\n",
       "      <td>0.011894</td>\n",
       "    </tr>\n",
       "    <tr>\n",
       "      <th>8</th>\n",
       "      <td>James</td>\n",
       "      <td>Kelly</td>\n",
       "      <td>0.996995</td>\n",
       "      <td>0.003005</td>\n",
       "      <td>0.856470</td>\n",
       "      <td>0.121486</td>\n",
       "      <td>0.001444</td>\n",
       "      <td>0.003757</td>\n",
       "      <td>0.003619</td>\n",
       "    </tr>\n",
       "    <tr>\n",
       "      <th>21</th>\n",
       "      <td>Frans</td>\n",
       "      <td>Carlsson</td>\n",
       "      <td>0.000000</td>\n",
       "      <td>0.000000</td>\n",
       "      <td>0.908700</td>\n",
       "      <td>0.005700</td>\n",
       "      <td>0.005700</td>\n",
       "      <td>0.055100</td>\n",
       "      <td>0.009500</td>\n",
       "    </tr>\n",
       "    <tr>\n",
       "      <th>22</th>\n",
       "      <td>Henry</td>\n",
       "      <td>Hansen</td>\n",
       "      <td>0.994550</td>\n",
       "      <td>0.005450</td>\n",
       "      <td>0.895979</td>\n",
       "      <td>0.013521</td>\n",
       "      <td>0.019576</td>\n",
       "      <td>0.044039</td>\n",
       "      <td>0.002536</td>\n",
       "    </tr>\n",
       "    <tr>\n",
       "      <th>418</th>\n",
       "      <td>George</td>\n",
       "      <td>Wick</td>\n",
       "      <td>0.994635</td>\n",
       "      <td>0.005365</td>\n",
       "      <td>0.948774</td>\n",
       "      <td>0.004789</td>\n",
       "      <td>0.003632</td>\n",
       "      <td>0.016978</td>\n",
       "      <td>0.009275</td>\n",
       "    </tr>\n",
       "  </tbody>\n",
       "</table>\n",
       "</div>"
      ],
      "text/plain": [
       "    first_name last_name      male    female     white     black       api  \\\n",
       "96       Harry    Molson  1.000000  0.000000  0.589963  0.346957  0.004102   \n",
       "320      Ethel   Garside  0.000000  1.000000  0.725620  0.184135  0.004528   \n",
       "292     Thomas     Brown  0.997831  0.002169  0.827330  0.135916  0.001564   \n",
       "125       Ling       Hee  0.000000  1.000000  0.000701  0.000000  0.998686   \n",
       "346     Marion    Wright  0.282353  0.717647  0.479418  0.508704  0.000367   \n",
       "327      Alice  Phillips  0.000000  1.000000  0.688851  0.236001  0.006972   \n",
       "8        James     Kelly  0.996995  0.003005  0.856470  0.121486  0.001444   \n",
       "21       Frans  Carlsson  0.000000  0.000000  0.908700  0.005700  0.005700   \n",
       "22       Henry    Hansen  0.994550  0.005450  0.895979  0.013521  0.019576   \n",
       "418     George      Wick  0.994635  0.005365  0.948774  0.004789  0.003632   \n",
       "\n",
       "     hispanic    native  \n",
       "96   0.010140  0.009210  \n",
       "320  0.013952  0.024379  \n",
       "292  0.004374  0.007247  \n",
       "125  0.000613  0.000000  \n",
       "346  0.004025  0.007486  \n",
       "327  0.016005  0.011894  \n",
       "8    0.003757  0.003619  \n",
       "21   0.055100  0.009500  \n",
       "22   0.044039  0.002536  \n",
       "418  0.016978  0.009275  "
      ]
     },
     "execution_count": 46,
     "metadata": {},
     "output_type": "execute_result"
    }
   ],
   "source": [
    "\n",
    "df_test.reset_index(drop=True)[['first_name', 'last_name']].join(inferred_bias_report.p_groups).sample(10)\n"
   ]
  },
  {
   "cell_type": "code",
   "execution_count": 47,
   "metadata": {},
   "outputs": [
    {
     "data": {
      "text/html": [
       "<div>\n",
       "<style scoped>\n",
       "    .dataframe tbody tr th:only-of-type {\n",
       "        vertical-align: middle;\n",
       "    }\n",
       "\n",
       "    .dataframe tbody tr th {\n",
       "        vertical-align: top;\n",
       "    }\n",
       "\n",
       "    .dataframe thead th {\n",
       "        text-align: right;\n",
       "    }\n",
       "</style>\n",
       "<table border=\"1\" class=\"dataframe\">\n",
       "  <thead>\n",
       "    <tr style=\"text-align: right;\">\n",
       "      <th></th>\n",
       "      <th>male_correlation</th>\n",
       "      <th>female_correlation</th>\n",
       "      <th>white_correlation</th>\n",
       "      <th>black_correlation</th>\n",
       "      <th>api_correlation</th>\n",
       "      <th>hispanic_correlation</th>\n",
       "      <th>native_correlation</th>\n",
       "    </tr>\n",
       "  </thead>\n",
       "  <tbody>\n",
       "    <tr>\n",
       "      <th>ticket_class</th>\n",
       "      <td>-0.243730</td>\n",
       "      <td>0.010038</td>\n",
       "      <td>-0.122978</td>\n",
       "      <td>-0.152287</td>\n",
       "      <td>0.128161</td>\n",
       "      <td>-0.003452</td>\n",
       "      <td>-0.029846</td>\n",
       "    </tr>\n",
       "    <tr>\n",
       "      <th>age</th>\n",
       "      <td>0.234712</td>\n",
       "      <td>-0.168692</td>\n",
       "      <td>0.165937</td>\n",
       "      <td>-0.059513</td>\n",
       "      <td>-0.044503</td>\n",
       "      <td>-0.058893</td>\n",
       "      <td>0.036010</td>\n",
       "    </tr>\n",
       "    <tr>\n",
       "      <th>num_of_siblings_or_spouses_aboard</th>\n",
       "      <td>0.027651</td>\n",
       "      <td>0.025737</td>\n",
       "      <td>0.029292</td>\n",
       "      <td>0.066896</td>\n",
       "      <td>-0.061708</td>\n",
       "      <td>-0.072092</td>\n",
       "      <td>0.138135</td>\n",
       "    </tr>\n",
       "    <tr>\n",
       "      <th>num_of_parents_or_children_aboard</th>\n",
       "      <td>0.057575</td>\n",
       "      <td>0.042770</td>\n",
       "      <td>0.048623</td>\n",
       "      <td>0.099354</td>\n",
       "      <td>-0.064993</td>\n",
       "      <td>-0.100496</td>\n",
       "      <td>0.064185</td>\n",
       "    </tr>\n",
       "    <tr>\n",
       "      <th>fare</th>\n",
       "      <td>0.053703</td>\n",
       "      <td>0.071300</td>\n",
       "      <td>0.076330</td>\n",
       "      <td>0.061158</td>\n",
       "      <td>-0.001893</td>\n",
       "      <td>-0.067631</td>\n",
       "      <td>0.058121</td>\n",
       "    </tr>\n",
       "    <tr>\n",
       "      <th>embarked_Cherbourg</th>\n",
       "      <td>-0.073627</td>\n",
       "      <td>-0.013599</td>\n",
       "      <td>-0.093890</td>\n",
       "      <td>-0.075407</td>\n",
       "      <td>-0.007720</td>\n",
       "      <td>0.124144</td>\n",
       "      <td>-0.020478</td>\n",
       "    </tr>\n",
       "    <tr>\n",
       "      <th>embarked_Queenstown</th>\n",
       "      <td>-0.019206</td>\n",
       "      <td>0.169752</td>\n",
       "      <td>0.110737</td>\n",
       "      <td>-0.049664</td>\n",
       "      <td>-0.049379</td>\n",
       "      <td>0.011407</td>\n",
       "      <td>-0.054550</td>\n",
       "    </tr>\n",
       "    <tr>\n",
       "      <th>embarked_Southampton</th>\n",
       "      <td>0.082538</td>\n",
       "      <td>-0.090631</td>\n",
       "      <td>0.011149</td>\n",
       "      <td>0.100265</td>\n",
       "      <td>0.038108</td>\n",
       "      <td>-0.116438</td>\n",
       "      <td>0.050909</td>\n",
       "    </tr>\n",
       "    <tr>\n",
       "      <th>sex_female</th>\n",
       "      <td>-0.327044</td>\n",
       "      <td>0.615262</td>\n",
       "      <td>0.047330</td>\n",
       "      <td>0.073640</td>\n",
       "      <td>-0.051959</td>\n",
       "      <td>0.074259</td>\n",
       "      <td>0.011737</td>\n",
       "    </tr>\n",
       "    <tr>\n",
       "      <th>sex_male</th>\n",
       "      <td>0.327044</td>\n",
       "      <td>-0.615262</td>\n",
       "      <td>-0.047330</td>\n",
       "      <td>-0.073640</td>\n",
       "      <td>0.051959</td>\n",
       "      <td>-0.074259</td>\n",
       "      <td>-0.011737</td>\n",
       "    </tr>\n",
       "  </tbody>\n",
       "</table>\n",
       "</div>"
      ],
      "text/plain": [
       "                                   male_correlation  female_correlation  \\\n",
       "ticket_class                              -0.243730            0.010038   \n",
       "age                                        0.234712           -0.168692   \n",
       "num_of_siblings_or_spouses_aboard          0.027651            0.025737   \n",
       "num_of_parents_or_children_aboard          0.057575            0.042770   \n",
       "fare                                       0.053703            0.071300   \n",
       "embarked_Cherbourg                        -0.073627           -0.013599   \n",
       "embarked_Queenstown                       -0.019206            0.169752   \n",
       "embarked_Southampton                       0.082538           -0.090631   \n",
       "sex_female                                -0.327044            0.615262   \n",
       "sex_male                                   0.327044           -0.615262   \n",
       "\n",
       "                                   white_correlation  black_correlation  \\\n",
       "ticket_class                               -0.122978          -0.152287   \n",
       "age                                         0.165937          -0.059513   \n",
       "num_of_siblings_or_spouses_aboard           0.029292           0.066896   \n",
       "num_of_parents_or_children_aboard           0.048623           0.099354   \n",
       "fare                                        0.076330           0.061158   \n",
       "embarked_Cherbourg                         -0.093890          -0.075407   \n",
       "embarked_Queenstown                         0.110737          -0.049664   \n",
       "embarked_Southampton                        0.011149           0.100265   \n",
       "sex_female                                  0.047330           0.073640   \n",
       "sex_male                                   -0.047330          -0.073640   \n",
       "\n",
       "                                   api_correlation  hispanic_correlation  \\\n",
       "ticket_class                              0.128161             -0.003452   \n",
       "age                                      -0.044503             -0.058893   \n",
       "num_of_siblings_or_spouses_aboard        -0.061708             -0.072092   \n",
       "num_of_parents_or_children_aboard        -0.064993             -0.100496   \n",
       "fare                                     -0.001893             -0.067631   \n",
       "embarked_Cherbourg                       -0.007720              0.124144   \n",
       "embarked_Queenstown                      -0.049379              0.011407   \n",
       "embarked_Southampton                      0.038108             -0.116438   \n",
       "sex_female                               -0.051959              0.074259   \n",
       "sex_male                                  0.051959             -0.074259   \n",
       "\n",
       "                                   native_correlation  \n",
       "ticket_class                                -0.029846  \n",
       "age                                          0.036010  \n",
       "num_of_siblings_or_spouses_aboard            0.138135  \n",
       "num_of_parents_or_children_aboard            0.064185  \n",
       "fare                                         0.058121  \n",
       "embarked_Cherbourg                          -0.020478  \n",
       "embarked_Queenstown                         -0.054550  \n",
       "embarked_Southampton                         0.050909  \n",
       "sex_female                                   0.011737  \n",
       "sex_male                                    -0.011737  "
      ]
     },
     "execution_count": 47,
     "metadata": {},
     "output_type": "execute_result"
    }
   ],
   "source": [
    "\n",
    "bias_detector.get_features_groups_correlation(first_names = first_names,\n",
    "                                            last_names = last_names, features=X_test)\n"
   ]
  },
  {
   "cell_type": "code",
   "execution_count": null,
   "metadata": {},
   "outputs": [],
   "source": []
  }
 ],
 "metadata": {
  "kernelspec": {
   "display_name": "Python 3",
   "language": "python",
   "name": "python3"
  },
  "language_info": {
   "codemirror_mode": {
    "name": "ipython",
    "version": 3
   },
   "file_extension": ".py",
   "mimetype": "text/x-python",
   "name": "python",
   "nbconvert_exporter": "python",
   "pygments_lexer": "ipython3",
   "version": "3.7.3"
  }
 },
 "nbformat": 4,
 "nbformat_minor": 2
}
