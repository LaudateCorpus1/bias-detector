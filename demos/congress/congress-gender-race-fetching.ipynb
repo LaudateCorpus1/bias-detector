{
 "cells": [
  {
   "cell_type": "code",
   "execution_count": 1,
   "metadata": {},
   "outputs": [],
   "source": [
    "\n",
    "#data sources:\n",
    "#https://history.house.gov/People/Search\n"
   ]
  },
  {
   "cell_type": "code",
   "execution_count": 2,
   "metadata": {},
   "outputs": [],
   "source": [
    "\n",
    "import warnings\n",
    "\n",
    "warnings.filterwarnings('ignore')\n"
   ]
  },
  {
   "cell_type": "code",
   "execution_count": 3,
   "metadata": {},
   "outputs": [],
   "source": [
    "\n",
    "%%capture\n",
    "\n",
    "!pip install requests\n"
   ]
  },
  {
   "cell_type": "code",
   "execution_count": 4,
   "metadata": {},
   "outputs": [],
   "source": [
    "\n",
    "#2000-present congress\n",
    "women_url_template = '''https://history.house.gov/People/Search?Term=Search&SearchIn=LastName&ShowNonMember=false&Office=&Leadership=&State=&Party=&ContinentalCongress=false&BlackAmericansInCongress=false&WomenInCongress=true&WomenInCongress=false&HispanicAmericansInCongress=false&AsianPacificAmericansInCongress=false&Dates=2000-present&CongressNumberList=&PreviousSearch=Search%2cLastName%2c%2c%2c%2c%2cFalse%2cFalse%2cTrue%2c2000-present%2c%2cLastName&CurrentPage=1&SortOrder=LastName&ResultType=Grid&Command={i}'''\n",
    "women_pages = 22\n",
    "black_url_template = '''https://history.house.gov/People/Search?Term=Search&SearchIn=LastName&ShowNonMember=false&Office=&Leadership=&State=&Party=&ContinentalCongress=false&BlackAmericansInCongress=true&BlackAmericansInCongress=false&WomenInCongress=false&HispanicAmericansInCongress=false&AsianPacificAmericansInCongress=false&Dates=2000-present&CongressNumberList=&PreviousSearch=Search%2cLastName%2c%2c%2c%2c%2cFalse%2cTrue%2cFalse%2c2000-present%2c%2cLastName&CurrentPage=1&SortOrder=LastName&ResultType=Grid&Command={i}'''\n",
    "black_pages = 9\n",
    "hispanic_url_template = '''https://history.house.gov/People/Search?Term=Search&SearchIn=LastName&ShowNonMember=false&Office=&Leadership=&State=&Party=&ContinentalCongress=false&BlackAmericansInCongress=false&WomenInCongress=false&HispanicAmericansInCongress=true&HispanicAmericansInCongress=false&AsianPacificAmericansInCongress=false&Dates=2000-present&CongressNumberList=&PreviousSearch=Search%2cLastName%2c%2c%2c%2c%2cFalse%2cFalse%2cFalse%2c2000-present%2c%2cLastName&CurrentPage=1&SortOrder=LastName&ResultType=Grid&Command={i}'''\n",
    "hispanic_pages = 8\n",
    "api_url_template = '''https://history.house.gov/People/Search?Term=Search&SearchIn=LastName&ShowNonMember=false&Office=&Leadership=&State=&Party=&ContinentalCongress=false&BlackAmericansInCongress=false&WomenInCongress=false&HispanicAmericansInCongress=false&AsianPacificAmericansInCongress=true&AsianPacificAmericansInCongress=false&Dates=2000-present&CongressNumberList=&PreviousSearch=Search%2cLastName%2c%2c%2c%2c%2cFalse%2cFalse%2cFalse%2c2000-present%2c%2cLastName&CurrentPage=1&SortOrder=LastName&ResultType=Grid&Command={i}'''\n",
    "api_pages = 4\n",
    "all_url_template = '''https://history.house.gov/People/Search?Term=Search&SearchIn=LastName&ShowNonMember=false&Office=&Leadership=&State=&Party=&ContinentalCongress=false&BlackAmericansInCongress=false&WomenInCongress=false&HispanicAmericansInCongress=false&AsianPacificAmericansInCongress=false&Dates=2000-present&CongressNumberList=&PreviousSearch=Search%2cLastName%2c%2c%2c%2c%2cFalse%2cFalse%2cFalse%2c2000-present%2c%2cLastName&CurrentPage=1&SortOrder=LastName&ResultType=Grid&Command={i}'''\n",
    "all_pages = 100\n"
   ]
  },
  {
   "cell_type": "code",
   "execution_count": 5,
   "metadata": {},
   "outputs": [],
   "source": [
    "\n",
    "import requests\n",
    "import re\n",
    "from time import sleep\n",
    "import random\n",
    "\n",
    "def get_names(url_template: str, pages: int) -> list:\n",
    "    \n",
    "    names = []\n",
    "\n",
    "    for i in range(1, pages + 1):\n",
    "        r = requests.get(url_template.format(i=i))\n",
    "        names.extend(re.findall(r'class=\"name\">\\r\\n                    (.*)\\r\\n', r.text))\n",
    "        sleep(random.uniform(0, 1))\n",
    "        \n",
    "    return names\n"
   ]
  },
  {
   "cell_type": "code",
   "execution_count": 6,
   "metadata": {},
   "outputs": [],
   "source": [
    "\n",
    "import pandas as pd\n",
    "\n",
    "women_names = None\n",
    "black_names = None\n",
    "hispanic_names = None\n",
    "api_names = None\n",
    "all_names = None\n",
    "\n",
    "try:\n",
    "    women_names = pd.read_csv('2000-present/women_names.csv')['name'].values\n",
    "    black_names = pd.read_csv('2000-present/black_names.csv')['name'].values\n",
    "    hispanic_names = pd.read_csv('2000-present/hispanic_names.csv')['name'].values\n",
    "    api_names = pd.read_csv('2000-present/api_names.csv')['name'].values\n",
    "    all_names = pd.read_csv('2000-present/all_names.csv')['name'].values\n",
    "except Exception as e:\n",
    "    print(str(e))\n",
    "    "
   ]
  },
  {
   "cell_type": "code",
   "execution_count": 7,
   "metadata": {},
   "outputs": [],
   "source": [
    "\n",
    "if women_names is None:\n",
    "    women_names = get_names(women_url_template, women_pages)\n",
    "    pd.Series(women_names).rename('name').to_csv('2000-present/women_names.csv', index=False)\n",
    "\n",
    "if black_names is None:\n",
    "    black_names = get_names(black_url_template, black_pages)\n",
    "    pd.Series(black_names).rename('name').to_csv('2000-present/black_names.csv', index=False)\n",
    "\n",
    "if hispanic_names is None:\n",
    "    hispanic_names = get_names(hispanic_url_template, hispanic_pages)\n",
    "    pd.Series(hispanic_names).rename('name').to_csv('2000-present/hispanic_names.csv', index=False)\n",
    "\n",
    "if api_names is None:\n",
    "    api_names = get_names(api_url_template, api_pages)\n",
    "    pd.Series(api_names).rename('name').to_csv('2000-present/api_names.csv', index=False)\n",
    "\n",
    "if all_names is None:\n",
    "    all_names = get_names(all_url_template, all_pages)\n",
    "    pd.Series(all_names).rename('name').to_csv('2000-present/all_names.csv', index=False)\n"
   ]
  },
  {
   "cell_type": "code",
   "execution_count": 8,
   "metadata": {},
   "outputs": [
    {
     "name": "stdout",
     "output_type": "stream",
     "text": [
      "women_names length: 261\n",
      "black_names length: 106\n",
      "hispanic_names length: 86\n",
      "api_names length: 39\n",
      "all_names length: 1190\n"
     ]
    }
   ],
   "source": [
    "\n",
    "print('women_names length:', len(women_names))\n",
    "print('black_names length:', len(black_names))\n",
    "print('hispanic_names length:', len(hispanic_names))\n",
    "print('api_names length:', len(api_names))\n",
    "print('all_names length:', len(all_names))\n"
   ]
  },
  {
   "cell_type": "code",
   "execution_count": 9,
   "metadata": {},
   "outputs": [],
   "source": [
    "\n",
    "%%capture\n",
    "\n",
    "!pip install unidecode\n"
   ]
  },
  {
   "cell_type": "code",
   "execution_count": 10,
   "metadata": {},
   "outputs": [],
   "source": [
    "\n",
    "import html\n",
    "import unidecode\n",
    "\n",
    "women_names = [unidecode.unidecode(html.unescape(name)) for name in women_names]\n",
    "black_names = [unidecode.unidecode(html.unescape(name)) for name in black_names]\n",
    "hispanic_names = [unidecode.unidecode(html.unescape(name)) for name in hispanic_names]\n",
    "api_names = [unidecode.unidecode(html.unescape(name)) for name in api_names]\n",
    "all_names = [unidecode.unidecode(html.unescape(name)) for name in all_names]\n"
   ]
  },
  {
   "cell_type": "code",
   "execution_count": 11,
   "metadata": {},
   "outputs": [
    {
     "data": {
      "text/html": [
       "<div>\n",
       "<style scoped>\n",
       "    .dataframe tbody tr th:only-of-type {\n",
       "        vertical-align: middle;\n",
       "    }\n",
       "\n",
       "    .dataframe tbody tr th {\n",
       "        vertical-align: top;\n",
       "    }\n",
       "\n",
       "    .dataframe thead th {\n",
       "        text-align: right;\n",
       "    }\n",
       "</style>\n",
       "<table border=\"1\" class=\"dataframe\">\n",
       "  <thead>\n",
       "    <tr style=\"text-align: right;\">\n",
       "      <th></th>\n",
       "    </tr>\n",
       "  </thead>\n",
       "  <tbody>\n",
       "    <tr>\n",
       "      <th>ABERCROMBIE, Neil</th>\n",
       "    </tr>\n",
       "    <tr>\n",
       "      <th>ABRAHAM, Ralph</th>\n",
       "    </tr>\n",
       "    <tr>\n",
       "      <th>ACEVEDO-VILA, Anibal</th>\n",
       "    </tr>\n",
       "    <tr>\n",
       "      <th>ACKERMAN, Gary Leonard</th>\n",
       "    </tr>\n",
       "    <tr>\n",
       "      <th>ADAMS, Alma</th>\n",
       "    </tr>\n",
       "  </tbody>\n",
       "</table>\n",
       "</div>"
      ],
      "text/plain": [
       "Empty DataFrame\n",
       "Columns: []\n",
       "Index: [ABERCROMBIE, Neil, ABRAHAM, Ralph, ACEVEDO-VILA, Anibal, ACKERMAN, Gary Leonard, ADAMS, Alma]"
      ]
     },
     "execution_count": 11,
     "metadata": {},
     "output_type": "execute_result"
    }
   ],
   "source": [
    "\n",
    "# names_union = set(women_names) | set(black_names) | set(hispanic_names) | set(api_names) | set(all_names)\n",
    "# congress_members = pd.DataFrame(index=list(names_union))\n",
    "congress_members = pd.DataFrame(index=all_names)\n",
    "congress_members.head()\n"
   ]
  },
  {
   "cell_type": "code",
   "execution_count": 12,
   "metadata": {},
   "outputs": [],
   "source": [
    "\n",
    "women_names_set = set(women_names)\n",
    "black_names_set = set(black_names)\n",
    "hispanic_names_set = set(hispanic_names)\n",
    "api_names_set = set(api_names)\n",
    "all_names_set = set(all_names)\n",
    "duplicated_race_names_set = (black_names_set & hispanic_names_set) | (black_names_set & api_names_set) | (hispanic_names_set & api_names_set)\n"
   ]
  },
  {
   "cell_type": "code",
   "execution_count": 13,
   "metadata": {},
   "outputs": [
    {
     "data": {
      "text/plain": [
       "{'CLARKE, Hansen',\n",
       " 'DELGADO, Antonio',\n",
       " 'HARRIS, Kamala Devi',\n",
       " 'SABLAN, Gregorio Kilili Camacho',\n",
       " 'SAN NICOLAS, Michael',\n",
       " 'SCOTT, Robert C.',\n",
       " 'STRICKLAND, Marilyn',\n",
       " 'TORRES, Ritchie',\n",
       " 'UNDERWOOD, Robert A.'}"
      ]
     },
     "execution_count": 13,
     "metadata": {},
     "output_type": "execute_result"
    }
   ],
   "source": [
    "\n",
    "duplicated_race_names_set\n"
   ]
  },
  {
   "cell_type": "code",
   "execution_count": 14,
   "metadata": {},
   "outputs": [
    {
     "data": {
      "text/html": [
       "<div>\n",
       "<style scoped>\n",
       "    .dataframe tbody tr th:only-of-type {\n",
       "        vertical-align: middle;\n",
       "    }\n",
       "\n",
       "    .dataframe tbody tr th {\n",
       "        vertical-align: top;\n",
       "    }\n",
       "\n",
       "    .dataframe thead th {\n",
       "        text-align: right;\n",
       "    }\n",
       "</style>\n",
       "<table border=\"1\" class=\"dataframe\">\n",
       "  <thead>\n",
       "    <tr style=\"text-align: right;\">\n",
       "      <th></th>\n",
       "      <th>last_name</th>\n",
       "      <th>first_name</th>\n",
       "    </tr>\n",
       "  </thead>\n",
       "  <tbody>\n",
       "    <tr>\n",
       "      <th>ABERCROMBIE, Neil</th>\n",
       "      <td>abercrombie</td>\n",
       "      <td>neil</td>\n",
       "    </tr>\n",
       "    <tr>\n",
       "      <th>ABRAHAM, Ralph</th>\n",
       "      <td>abraham</td>\n",
       "      <td>ralph</td>\n",
       "    </tr>\n",
       "    <tr>\n",
       "      <th>ACEVEDO-VILA, Anibal</th>\n",
       "      <td>acevedovila</td>\n",
       "      <td>anibal</td>\n",
       "    </tr>\n",
       "    <tr>\n",
       "      <th>ACKERMAN, Gary Leonard</th>\n",
       "      <td>ackerman</td>\n",
       "      <td>gary</td>\n",
       "    </tr>\n",
       "    <tr>\n",
       "      <th>ADAMS, Alma</th>\n",
       "      <td>adams</td>\n",
       "      <td>alma</td>\n",
       "    </tr>\n",
       "  </tbody>\n",
       "</table>\n",
       "</div>"
      ],
      "text/plain": [
       "                          last_name first_name\n",
       "ABERCROMBIE, Neil       abercrombie       neil\n",
       "ABRAHAM, Ralph              abraham      ralph\n",
       "ACEVEDO-VILA, Anibal    acevedovila     anibal\n",
       "ACKERMAN, Gary Leonard     ackerman       gary\n",
       "ADAMS, Alma                   adams       alma"
      ]
     },
     "execution_count": 14,
     "metadata": {},
     "output_type": "execute_result"
    }
   ],
   "source": [
    "\n",
    "def normalize_last_name(name: str, last_name: str) -> str:\n",
    "    if name in women_names_set:\n",
    "        if ' ' in last_name:\n",
    "            return last_name.split()[0].replace('-', '').lower()\n",
    "        elif '-' in last_name:\n",
    "            return last_name.split('-')[0].lower()\n",
    "        else:\n",
    "            return last_name.lower()\n",
    "    else:\n",
    "        return last_name.replace('-', '').lower()\n",
    "\n",
    "congress_members[['last_name', 'first_name']] = congress_members.index.to_series().str.split(',', n=1, expand=True)\n",
    "congress_members['first_name'] = congress_members['first_name'].str.lower().str.replace(r'([a-zA-Z]+\\.\\,?\\s+)|([\\(\\)\\-\\,]+)', '').str.split(n=1, expand=True)[0].str.strip()\n",
    "congress_members['last_name'] = congress_members.reset_index().apply(lambda row: normalize_last_name(row['index'], row['last_name']), axis=1).values\n",
    "congress_members.head()\n"
   ]
  },
  {
   "cell_type": "code",
   "execution_count": 15,
   "metadata": {},
   "outputs": [],
   "source": [
    "\n",
    "def get_race(name: str) -> str:\n",
    "    if name in duplicated_race_names_set:\n",
    "        return None\n",
    "    if name in black_names_set:\n",
    "        return 'black'\n",
    "    elif name in hispanic_names_set:\n",
    "        return 'hispanic'\n",
    "    elif name in api_names_set:\n",
    "        return 'api'\n",
    "    else:\n",
    "        return None\n",
    "\n",
    "def get_gender(name: str) -> str:\n",
    "    if name in women_names_set:\n",
    "        return 'female'\n",
    "    else:\n",
    "        return 'male'\n"
   ]
  },
  {
   "cell_type": "code",
   "execution_count": 16,
   "metadata": {},
   "outputs": [
    {
     "data": {
      "text/html": [
       "<div>\n",
       "<style scoped>\n",
       "    .dataframe tbody tr th:only-of-type {\n",
       "        vertical-align: middle;\n",
       "    }\n",
       "\n",
       "    .dataframe tbody tr th {\n",
       "        vertical-align: top;\n",
       "    }\n",
       "\n",
       "    .dataframe thead th {\n",
       "        text-align: right;\n",
       "    }\n",
       "</style>\n",
       "<table border=\"1\" class=\"dataframe\">\n",
       "  <thead>\n",
       "    <tr style=\"text-align: right;\">\n",
       "      <th></th>\n",
       "      <th>last_name</th>\n",
       "      <th>first_name</th>\n",
       "      <th>race</th>\n",
       "    </tr>\n",
       "  </thead>\n",
       "  <tbody>\n",
       "    <tr>\n",
       "      <th>ABERCROMBIE, Neil</th>\n",
       "      <td>abercrombie</td>\n",
       "      <td>neil</td>\n",
       "      <td>None</td>\n",
       "    </tr>\n",
       "    <tr>\n",
       "      <th>ABRAHAM, Ralph</th>\n",
       "      <td>abraham</td>\n",
       "      <td>ralph</td>\n",
       "      <td>None</td>\n",
       "    </tr>\n",
       "    <tr>\n",
       "      <th>ACEVEDO-VILA, Anibal</th>\n",
       "      <td>acevedovila</td>\n",
       "      <td>anibal</td>\n",
       "      <td>hispanic</td>\n",
       "    </tr>\n",
       "    <tr>\n",
       "      <th>ACKERMAN, Gary Leonard</th>\n",
       "      <td>ackerman</td>\n",
       "      <td>gary</td>\n",
       "      <td>None</td>\n",
       "    </tr>\n",
       "    <tr>\n",
       "      <th>ADAMS, Alma</th>\n",
       "      <td>adams</td>\n",
       "      <td>alma</td>\n",
       "      <td>black</td>\n",
       "    </tr>\n",
       "  </tbody>\n",
       "</table>\n",
       "</div>"
      ],
      "text/plain": [
       "                          last_name first_name      race\n",
       "ABERCROMBIE, Neil       abercrombie       neil      None\n",
       "ABRAHAM, Ralph              abraham      ralph      None\n",
       "ACEVEDO-VILA, Anibal    acevedovila     anibal  hispanic\n",
       "ACKERMAN, Gary Leonard     ackerman       gary      None\n",
       "ADAMS, Alma                   adams       alma     black"
      ]
     },
     "execution_count": 16,
     "metadata": {},
     "output_type": "execute_result"
    }
   ],
   "source": [
    "\n",
    "congress_members['race'] = congress_members.index.to_series().apply(get_race)\n",
    "congress_members.head()\n"
   ]
  },
  {
   "cell_type": "code",
   "execution_count": 17,
   "metadata": {},
   "outputs": [
    {
     "data": {
      "text/html": [
       "<div>\n",
       "<style scoped>\n",
       "    .dataframe tbody tr th:only-of-type {\n",
       "        vertical-align: middle;\n",
       "    }\n",
       "\n",
       "    .dataframe tbody tr th {\n",
       "        vertical-align: top;\n",
       "    }\n",
       "\n",
       "    .dataframe thead th {\n",
       "        text-align: right;\n",
       "    }\n",
       "</style>\n",
       "<table border=\"1\" class=\"dataframe\">\n",
       "  <thead>\n",
       "    <tr style=\"text-align: right;\">\n",
       "      <th></th>\n",
       "      <th>last_name</th>\n",
       "      <th>first_name</th>\n",
       "      <th>race</th>\n",
       "      <th>gender</th>\n",
       "    </tr>\n",
       "  </thead>\n",
       "  <tbody>\n",
       "    <tr>\n",
       "      <th>ABERCROMBIE, Neil</th>\n",
       "      <td>abercrombie</td>\n",
       "      <td>neil</td>\n",
       "      <td>None</td>\n",
       "      <td>male</td>\n",
       "    </tr>\n",
       "    <tr>\n",
       "      <th>ABRAHAM, Ralph</th>\n",
       "      <td>abraham</td>\n",
       "      <td>ralph</td>\n",
       "      <td>None</td>\n",
       "      <td>male</td>\n",
       "    </tr>\n",
       "    <tr>\n",
       "      <th>ACEVEDO-VILA, Anibal</th>\n",
       "      <td>acevedovila</td>\n",
       "      <td>anibal</td>\n",
       "      <td>hispanic</td>\n",
       "      <td>male</td>\n",
       "    </tr>\n",
       "    <tr>\n",
       "      <th>ACKERMAN, Gary Leonard</th>\n",
       "      <td>ackerman</td>\n",
       "      <td>gary</td>\n",
       "      <td>None</td>\n",
       "      <td>male</td>\n",
       "    </tr>\n",
       "    <tr>\n",
       "      <th>ADAMS, Alma</th>\n",
       "      <td>adams</td>\n",
       "      <td>alma</td>\n",
       "      <td>black</td>\n",
       "      <td>female</td>\n",
       "    </tr>\n",
       "  </tbody>\n",
       "</table>\n",
       "</div>"
      ],
      "text/plain": [
       "                          last_name first_name      race  gender\n",
       "ABERCROMBIE, Neil       abercrombie       neil      None    male\n",
       "ABRAHAM, Ralph              abraham      ralph      None    male\n",
       "ACEVEDO-VILA, Anibal    acevedovila     anibal  hispanic    male\n",
       "ACKERMAN, Gary Leonard     ackerman       gary      None    male\n",
       "ADAMS, Alma                   adams       alma     black  female"
      ]
     },
     "execution_count": 17,
     "metadata": {},
     "output_type": "execute_result"
    }
   ],
   "source": [
    "\n",
    "congress_members['gender'] = congress_members.index.to_series().apply(get_gender)\n",
    "congress_members.head()\n"
   ]
  },
  {
   "cell_type": "code",
   "execution_count": 18,
   "metadata": {},
   "outputs": [
    {
     "data": {
      "text/plain": [
       "male      958\n",
       "female    232\n",
       "Name: gender, dtype: int64"
      ]
     },
     "execution_count": 18,
     "metadata": {},
     "output_type": "execute_result"
    }
   ],
   "source": [
    "\n",
    "congress_members['gender'].value_counts()\n"
   ]
  },
  {
   "cell_type": "code",
   "execution_count": 19,
   "metadata": {},
   "outputs": [
    {
     "data": {
      "text/plain": [
       "black       96\n",
       "hispanic    76\n",
       "api         30\n",
       "Name: race, dtype: int64"
      ]
     },
     "execution_count": 19,
     "metadata": {},
     "output_type": "execute_result"
    }
   ],
   "source": [
    "\n",
    "congress_members['race'].value_counts()\n"
   ]
  },
  {
   "cell_type": "code",
   "execution_count": 20,
   "metadata": {},
   "outputs": [],
   "source": [
    "\n",
    "congress_members.reset_index().rename(columns={'index':'full_name'}).to_csv('2000-present/congress_members.csv')\n"
   ]
  },
  {
   "cell_type": "code",
   "execution_count": null,
   "metadata": {},
   "outputs": [],
   "source": []
  }
 ],
 "metadata": {
  "kernelspec": {
   "display_name": "Python 3",
   "language": "python",
   "name": "python3"
  },
  "language_info": {
   "codemirror_mode": {
    "name": "ipython",
    "version": 3
   },
   "file_extension": ".py",
   "mimetype": "text/x-python",
   "name": "python",
   "nbconvert_exporter": "python",
   "pygments_lexer": "ipython3",
   "version": "3.7.3"
  }
 },
 "nbformat": 4,
 "nbformat_minor": 2
}
